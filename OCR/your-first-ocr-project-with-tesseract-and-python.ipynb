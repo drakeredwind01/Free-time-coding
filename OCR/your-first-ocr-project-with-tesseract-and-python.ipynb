{
 "cells": [
  {
   "cell_type": "code",
   "execution_count": 19,
   "id": "976d2ad8-0b2f-412e-b847-04d5e953f040",
   "metadata": {},
   "outputs": [],
   "source": [
    "import cv2"
   ]
  },
  {
   "cell_type": "code",
   "execution_count": 22,
   "id": "99e37b65-29d5-4346-a4ce-bcafa0bd4b8d",
   "metadata": {},
   "outputs": [],
   "source": [
    "img = cv2.imread(\"D:/documents/GitHub/Free time coding/OCR/image.png\")"
   ]
  },
  {
   "cell_type": "code",
   "execution_count": 23,
   "id": "2421b0de-6944-42be-a4eb-c236b295d53f",
   "metadata": {},
   "outputs": [],
   "source": [
    "img = cv2.resize(img, (400, 400))"
   ]
  },
  {
   "cell_type": "code",
   "execution_count": 24,
   "id": "c874820f-7672-42ee-ad3c-0f27113cab7a",
   "metadata": {},
   "outputs": [],
   "source": [
    "cv2.imshow(\"Image\", img)"
   ]
  },
  {
   "cell_type": "code",
   "execution_count": null,
   "id": "5bbe683a-87f3-41da-bca0-cf8ddf4d2718",
   "metadata": {},
   "outputs": [],
   "source": []
  }
 ],
 "metadata": {
  "kernelspec": {
   "display_name": "Python 3 (ipykernel)",
   "language": "python",
   "name": "python3"
  },
  "language_info": {
   "codemirror_mode": {
    "name": "ipython",
    "version": 3
   },
   "file_extension": ".py",
   "mimetype": "text/x-python",
   "name": "python",
   "nbconvert_exporter": "python",
   "pygments_lexer": "ipython3",
   "version": "3.12.0"
  }
 },
 "nbformat": 4,
 "nbformat_minor": 5
}
