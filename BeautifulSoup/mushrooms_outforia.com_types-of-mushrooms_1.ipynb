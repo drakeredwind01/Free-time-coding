{
 "cells": [
  {
   "cell_type": "code",
   "execution_count": 1,
   "id": "cb76213b",
   "metadata": {},
   "outputs": [],
   "source": [
    "from bs4 import BeautifulSoup\n",
    "import requests\n",
    "from tqdm import tqdm\n",
    "from io import open\n",
    "import os"
   ]
  },
  {
   "cell_type": "code",
   "execution_count": 46,
   "id": "5b8783c5",
   "metadata": {},
   "outputs": [
    {
     "ename": "NameError",
     "evalue": "name 'selector' is not defined",
     "output_type": "error",
     "traceback": [
      "\u001b[1;31m---------------------------------------------------------------------------\u001b[0m",
      "\u001b[1;31mNameError\u001b[0m                                 Traceback (most recent call last)",
      "Cell \u001b[1;32mIn[46], line 5\u001b[0m\n\u001b[0;32m      2\u001b[0m souped \u001b[38;5;241m=\u001b[39m BeautifulSoup(source\u001b[38;5;241m.\u001b[39mcontent, \u001b[38;5;124m'\u001b[39m\u001b[38;5;124mhtml.parser\u001b[39m\u001b[38;5;124m'\u001b[39m)\n\u001b[0;32m      4\u001b[0m \u001b[38;5;66;03m# Get all of the mushroom names\u001b[39;00m\n\u001b[1;32m----> 5\u001b[0m names \u001b[38;5;241m=\u001b[39m \u001b[43mselector\u001b[49m\u001b[38;5;241m.\u001b[39mxpath(\u001b[38;5;124m'\u001b[39m\u001b[38;5;124m/html/body/div[2]/div[1]/div[2]/main/article/div/div[2]/h2[3]\u001b[39m\u001b[38;5;124m'\u001b[39m)\n\u001b[0;32m      6\u001b[0m \u001b[38;5;28;01mfor\u001b[39;00m name \u001b[38;5;129;01min\u001b[39;00m names:\n\u001b[0;32m      7\u001b[0m     filename \u001b[38;5;241m=\u001b[39m name\n",
      "\u001b[1;31mNameError\u001b[0m: name 'selector' is not defined"
     ]
    }
   ],
   "source": [
    "source = requests.get('https://outforia.com/poisonous-mushrooms/')\n",
    "souped = BeautifulSoup(source.content, 'html.parser')\n",
    "\n",
    "# Get all of the mushroom names\n",
    "names = souped.select('h2.wp-block-heading.ftwp-heading')\n",
    "for name in names:\n",
    "    filename = name\n",
    "    print(filename)\n",
    "\n",
    "# Get all of the mushroom images\n",
    "imgs = souped.find_all('img.wp-image-71437.sp-no-webp')\n",
    "\n",
    "images = souped.select('img.wp-image-71437.sp-no-webp')\n",
    "for image in images:\n",
    "    print(image)\n",
    "\n"
   ]
  },
  {
   "cell_type": "code",
   "execution_count": 7,
   "id": "511d35d3",
   "metadata": {},
   "outputs": [
    {
     "name": "stdout",
     "output_type": "stream",
     "text": [
      "mushrooms/?event=init&tid=2613723399098&pd[em]=<hashed_email_address>&noscript=1\n",
      "mushrooms/Outforia-logo-new2-2.png\n",
      "mushrooms/Types-of-Mushrooms-featured-image-1200x385-1.jpg\n",
      "mushrooms/Amanda_square_headshot-100x100.jpg\n",
      "mushrooms/Amanda_square_headshot-100x100.jpg\n",
      "mushrooms/check-icon.png\n",
      "mushrooms/avatar_user_17_1629213295-96x96.jpg\n",
      "mushrooms/Types-of-Mushrooms-13-122221.jpg\n",
      "mushrooms/Types-of-Mushroom-1-122221.jpg\n",
      "mushrooms/Types-of-Mushrooms-2-122221.jpg\n",
      "mushrooms/Types-of-Mushrooms-Infographics-122221.jpg\n",
      "mushrooms/Types-of-Mushrooms-3-122221.jpg\n",
      "mushrooms/Types-of-Mushrooms-14-122221.jpg\n",
      "mushrooms/Types-of-Mushrooms-4-122221.jpg\n",
      "mushrooms/Types-of-Mushrooms-Oyster-Mushrooms-122221.jpg\n",
      "mushrooms/Types-of-Mushrooms-Hedgehog-Mushroom-122221-1.jpg\n",
      "mushrooms/Types-of-Mushrooms-Enoki-Mushrooms-122221-1.jpg\n",
      "mushrooms/Types-of-Mushrooms-Gypsy-Mushroom-122221.jpg\n",
      "mushrooms/Types-of-Mushrooms-Chanterelle-Mushroom-122221.jpg\n",
      "mushrooms/Types-of-Mushrooms-Lions-Mane-122221.jpg\n",
      "mushrooms/516zkCIpPrL._SL500_.webp\n",
      "mushrooms/Types-of-Mushrooms-Chicken-of-the-Woods-122221.jpg\n",
      "mushrooms/Types-of-Mushrooms-Shimeji-122221.jpg\n",
      "mushrooms/Types-of-Mushrooms-Porcini-Mushrooms-122221.jpg\n",
      "mushrooms/Types-of-Mushrooms-Shiitake-Mushrooms-122221.jpg\n",
      "mushrooms/Types-of-Mushrooms-Maitake-Mushroom-122221.jpg\n",
      "mushrooms/Types-of-Mushrooms-Black-Trumpet-Mushrooms-122221.jpg\n",
      "mushrooms/Types-of-Mushrooms-Reishi-Mushrooms-122221.jpg\n",
      "mushrooms/Types-of-Mushrooms-Wood-Blewit-122221.jpg\n",
      "mushrooms/Types-of-Mushrooms-Morel-Mushroom-122221.jpg\n",
      "mushrooms/Types-of-Mushrooms-Matsutake-122221.jpg\n",
      "mushrooms/Types-of-Mushrooms-Cauliflower-Mushroom-122221.jpg\n",
      "mushrooms/Types-of-Mushrooms-Charcoal-Burner-Mushroom-122221.jpg\n",
      "mushrooms/Types-of-Mushrooms-Giant-Puffball-122221.jpg\n",
      "mushrooms/Types-of-Mushrooms-Crab-Brittlegill-122221.jpg\n",
      "mushrooms/Types-of-Mushrooms-Dryads-Saddle-122221.jpg\n",
      "mushrooms/Types-of-Mushrooms-Honey-Fungus-122221.jpg\n",
      "mushrooms/Types-of-Mushrooms-6-122221.jpg\n",
      "mushrooms/Types-of-Mushrooms-Death-Cap-122221.jpg\n",
      "mushrooms/Types-of-Mushrooms-False-Parasol-122221.jpg\n",
      "mushrooms/Types-of-Mushrooms-Brown-Common-Rollrims-122221.jpg\n",
      "mushrooms/Types-of-Mushrooms-Conocybe-122221.jpg\n",
      "mushrooms/Types-of-Mushrooms-Elfin-Saddle-122221-1.jpg\n",
      "mushrooms/Types-of-Mushrooms-Destroying-Angel-122221.jpg\n",
      "mushrooms/Types-of-Mushrooms-Scaly-Vase-Chanterelle-122221.jpg\n",
      "mushrooms/Types-of-Mushrooms-Yellow-Stainer-122221.jpg\n",
      "mushrooms/Types-of-Mushrooms-Satans-Bolete-122221.jpg\n",
      "mushrooms/Types-of-Mushrooms-Jack-OLantern-122221.jpg\n",
      "mushrooms/Types-of-Mushrooms-Ivory-Funnel-122221.jpg\n",
      "mushrooms/Types-of-Mushrooms-Autumn-Skullcap-122221.jpg\n",
      "mushrooms/Types-of-Mushrooms-Inky-Cap-122221.jpg\n",
      "mushrooms/Types-of-Mushrooms-False-Champignon-122221.jpg\n",
      "mushrooms/Types-of-Mushrooms-Deady-Webcap-122221.jpg\n",
      "mushrooms/Types-of-Mushrooms-Brain-Mushroom-122221.jpg\n",
      "mushrooms/Types-of-Mushrooms-Lilac-Bonnet-122221.jpg\n",
      "mushrooms/Types-of-Mushrooms-Angel-Wing-122221.jpg\n",
      "mushrooms/Types-of-Mushrooms-Sulfur-Tuft-122221.jpg\n",
      "mushrooms/Types-of-Mushrooms-Emetic-Russula-122221.jpg\n",
      "mushrooms/Types-of-Mushrooms-15-122221.jpg\n",
      "mushrooms/Types-of-Mushrooms-7-122221.jpg\n",
      "mushrooms/Types-of-Mushrooms-8-122221.jpg\n",
      "mushrooms/Types-of-Mushrooms-16-122221.jpg\n",
      "mushrooms/Types-of-Mushrooms-9-122221.jpg\n",
      "mushrooms/Types-of-Mushrooms-10-122221.jpg\n",
      "mushrooms/Types-of-Mushrooms-11-122221.jpg\n",
      "mushrooms/Types-of-Mushrooms-12-122221.jpg\n",
      "mushrooms/Amanda_square_headshot-124x124.jpg\n",
      "mushrooms/extinct-animals-featured-image-09072023-1-300x96.jpg\n",
      "mushrooms/mandrill-09142023-featured-image-300x96.jpg\n",
      "mushrooms/pygmy-marmoset-featured-image-09142023-300x96.jpg\n",
      "mushrooms/Types-of-hiking-featured-image-0923-300x96.jpg\n",
      "mushrooms/how-do-whales-drink-milk-underwater-featured-image-09102023-300x96.jpg\n",
      "mushrooms/why-do-leaves-change-color-in-the-fall-featured-image-04252023.jpg\n",
      "mushrooms/edible-mushrooms-46-03132023-1.jpg\n",
      "mushrooms/Outforia-Featured-Image-Mushroom-Identification-1022.jpg\n",
      "mushrooms/areca-palm-featured-image-0623.jpg\n",
      "mushrooms/what-kind-of-tree-is-tthis-featured-image-0923.jpg\n",
      "mushrooms/types-of-pine-cones-featured-image-0323.jpg\n",
      "mushrooms/Outforia-Featured-Image-Mushroom-Identification-1022-680x290.jpg\n",
      "mushrooms/edible-mushrooms-46-03132023-1-680x290.jpg\n",
      "mushrooms/poisonous-mushrooms-featured-image-03152023-680x290.jpg\n",
      "mushrooms/where-do-mushrooms-grow-featured-image-06042023-680x290.jpg\n",
      "mushrooms/Featured-Image-Outforia-Toxic-Plants-680x290.jpg\n",
      "mushrooms/Featured-Image-Outforia-Types-of-knots-1-680x290-1.jpg\n"
     ]
    }
   ],
   "source": [
    "for img in imgs:\n",
    "    imglink = img.attrs.get('src')\n",
    "    image = requests.get(imglink).content\n",
    "    filename = r'mushrooms'+imglink[imglink.rfind('/'):]\n",
    "    # Create the directory if it does not exist.\n",
    "    print(filename)"
   ]
  }
 ],
 "metadata": {
  "kernelspec": {
   "display_name": "Python 3 (ipykernel)",
   "language": "python",
   "name": "python3"
  },
  "language_info": {
   "codemirror_mode": {
    "name": "ipython",
    "version": 3
   },
   "file_extension": ".py",
   "mimetype": "text/x-python",
   "name": "python",
   "nbconvert_exporter": "python",
   "pygments_lexer": "ipython3",
   "version": "3.10.4"
  }
 },
 "nbformat": 4,
 "nbformat_minor": 5
}
