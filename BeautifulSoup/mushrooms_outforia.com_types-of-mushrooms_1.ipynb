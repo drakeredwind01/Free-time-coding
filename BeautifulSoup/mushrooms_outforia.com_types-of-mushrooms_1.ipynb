{
 "cells": [
  {
   "cell_type": "code",
   "execution_count": 1,
   "id": "cb76213b",
   "metadata": {
    "ExecuteTime": {
     "end_time": "2024-09-14T23:18:13.052565Z",
     "start_time": "2024-09-14T23:18:12.053662Z"
    }
   },
   "outputs": [],
   "source": [
    "from bs4 import BeautifulSoup\n",
    "import requests\n",
    "from tqdm import tqdm\n",
    "from io import open\n",
    "import os"
   ]
  },
  {
   "cell_type": "code",
   "execution_count": 2,
   "id": "5b8783c5",
   "metadata": {
    "ExecuteTime": {
     "end_time": "2024-09-14T23:20:02.233139Z",
     "start_time": "2024-09-14T23:20:01.471926Z"
    }
   },
   "outputs": [],
   "source": [
    "source = requests.get('https://outforia.com/poisonous-mushrooms/')\n",
    "souped = BeautifulSoup(source.content, 'html.parser')\n",
    "\n",
    "# Get all of the mushroom names\n",
    "names = souped.select('h2.wp-block-heading.ftwp-heading')\n",
    "for name in names:\n",
    "    filename = name\n",
    "    print(filename)\n",
    "\n",
    "# Get all of the mushroom images\n",
    "imgs = souped.find_all('img.wp-image-71437.sp-no-webp')\n",
    "\n",
    "images = souped.select('img.wp-image-71437.sp-no-webp')\n",
    "for image in images:\n",
    "    print(image)\n",
    "\n"
   ]
  },
  {
   "cell_type": "code",
   "execution_count": 3,
   "id": "511d35d3",
   "metadata": {
    "ExecuteTime": {
     "end_time": "2024-09-14T23:20:19.127469Z",
     "start_time": "2024-09-14T23:20:19.118552Z"
    }
   },
   "outputs": [],
   "source": [
    "for img in imgs:\n",
    "    imglink = img.attrs.get('src')\n",
    "    image = requests.get(imglink).content\n",
    "    filename = r'mushrooms'+imglink[imglink.rfind('/'):]\n",
    "    # Create the directory if it does not exist.\n",
    "    print(filename)"
   ]
  },
  {
   "cell_type": "code",
   "execution_count": null,
   "id": "f5273d92-4eac-48a5-ba82-aa1f05e96ea6",
   "metadata": {},
   "outputs": [],
   "source": []
  }
 ],
 "metadata": {
  "kernelspec": {
   "display_name": "Python 3 (ipykernel)",
   "language": "python",
   "name": "python3"
  },
  "language_info": {
   "codemirror_mode": {
    "name": "ipython",
    "version": 3
   },
   "file_extension": ".py",
   "mimetype": "text/x-python",
   "name": "python",
   "nbconvert_exporter": "python",
   "pygments_lexer": "ipython3",
   "version": "3.12.0"
  }
 },
 "nbformat": 4,
 "nbformat_minor": 5
}
