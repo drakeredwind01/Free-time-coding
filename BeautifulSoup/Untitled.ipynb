{
 "cells": [
  {
   "cell_type": "code",
   "outputs": [],
   "source": [
    "import requests\n",
    "from bs4 import BeautifulSoup\n",
    "\n",
    "page_url = \"https://youtube.com/playlist?list=PL4cUxeGkcC9iqfAag3a_BKEX1N43uJutw&si=asgFi4KKbPNpSsWB\"\n",
    "page = requests.get(page_url)"
   ],
   "metadata": {
    "collapsed": false,
    "ExecuteTime": {
     "end_time": "2024-09-16T21:47:13.928083Z",
     "start_time": "2024-09-16T21:47:13.370014Z"
    }
   },
   "id": "771e8652bb3b4387",
   "execution_count": 15
  },
  {
   "cell_type": "code",
   "outputs": [
    {
     "name": "stdout",
     "output_type": "stream",
     "text": [
      "/\n",
      "/\n",
      "https://www.youtube.com/about/\n",
      "https://www.youtube.com/about/press/\n",
      "https://www.youtube.com/about/copyright/\n",
      "/t/contact_us/\n",
      "https://www.youtube.com/creators/\n",
      "https://www.youtube.com/ads/\n",
      "https://developers.google.com/youtube\n",
      "/t/terms\n",
      "/t/privacy\n",
      "https://www.youtube.com/about/policies/\n",
      "https://www.youtube.com/howyoutubeworks?utm_campaign=ytgen&utm_source=ythp&utm_medium=LeftNav&utm_content=txt&u=https%3A%2F%2Fwww.youtube.com%2Fhowyoutubeworks%3Futm_source%3Dythp%26utm_medium%3DLeftNav%26utm_campaign%3Dytgen\n",
      "/new\n",
      "https://tv.youtube.com/learn/nflsundayticket\n"
     ]
    }
   ],
   "source": [
    "soup = BeautifulSoup(page.content,'html.parser')\n",
    "for link in soup.find_all('a'):\n",
    "    print(link.get('href'))"
   ],
   "metadata": {
    "collapsed": false,
    "ExecuteTime": {
     "end_time": "2024-09-16T21:47:16.464241Z",
     "start_time": "2024-09-16T21:47:15.144785Z"
    }
   },
   "id": "2bfd73cbbdbf3acd",
   "execution_count": 16
  },
  {
   "cell_type": "code",
   "outputs": [
    {
     "ename": "TypeError",
     "evalue": "'NoneType' object is not iterable",
     "output_type": "error",
     "traceback": [
      "\u001B[1;31m---------------------------------------------------------------------------\u001B[0m",
      "\u001B[1;31mTypeError\u001B[0m                                 Traceback (most recent call last)",
      "Cell \u001B[1;32mIn[19], line 5\u001B[0m\n\u001B[0;32m      3\u001B[0m Path(\u001B[38;5;124m\"\u001B[39m\u001B[38;5;124mzzz_web_page_playlist.html\u001B[39m\u001B[38;5;124m\"\u001B[39m)\u001B[38;5;241m.\u001B[39mwrite_bytes(page\u001B[38;5;241m.\u001B[39mcontent)\n\u001B[0;32m      4\u001B[0m names \u001B[38;5;241m=\u001B[39m soup\u001B[38;5;241m.\u001B[39mfind(class_\u001B[38;5;241m=\u001B[39m\u001B[38;5;124m\"\u001B[39m\u001B[38;5;124myt-simple-endpoint style-scope ytd-playlist-video-renderer\u001B[39m\u001B[38;5;124m\"\u001B[39m)\n\u001B[1;32m----> 5\u001B[0m \u001B[38;5;28;43;01mfor\u001B[39;49;00m\u001B[43m \u001B[49m\u001B[43mname\u001B[49m\u001B[43m \u001B[49m\u001B[38;5;129;43;01min\u001B[39;49;00m\u001B[43m \u001B[49m\u001B[43mnames\u001B[49m\u001B[43m:\u001B[49m\n\u001B[0;32m      6\u001B[0m \u001B[43m    \u001B[49m\u001B[38;5;28;43mprint\u001B[39;49m\u001B[43m(\u001B[49m\u001B[43mname\u001B[49m\u001B[43m)\u001B[49m\n",
      "\u001B[1;31mTypeError\u001B[0m: 'NoneType' object is not iterable"
     ]
    }
   ],
   "source": [
    "# content = soup.find(\"content\")\n",
    "from pathlib import Path\n",
    "Path(\"zzz_web_page_playlist.html\").write_bytes(page.content)\n",
    "\n",
    "names = soup.find(class_=\"yt-simple-endpoint style-scope ytd-playlist-video-renderer\")\n",
    "for name in names:\n",
    "    print(name)"
   ],
   "metadata": {
    "collapsed": false,
    "ExecuteTime": {
     "end_time": "2024-09-16T21:52:56.690906Z",
     "start_time": "2024-09-16T21:52:56.309480Z"
    }
   },
   "id": "98e0863654f99eb",
   "execution_count": 19
  },
  {
   "cell_type": "code",
   "outputs": [],
   "source": [],
   "metadata": {
    "collapsed": false
   },
   "id": "1e48f81abcc6b557"
  }
 ],
 "metadata": {
  "kernelspec": {
   "name": "python3",
   "language": "python",
   "display_name": "Python 3 (ipykernel)"
  }
 },
 "nbformat": 4,
 "nbformat_minor": 5
}
