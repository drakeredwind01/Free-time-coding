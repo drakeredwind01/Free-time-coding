{
 "cells": [
  {
   "cell_type": "code",
   "execution_count": 10,
   "id": "f2ee69dc",
   "metadata": {},
   "outputs": [],
   "source": [
    "from bs4 import BeautifulSoup\n",
    "import requests\n",
    "import bs4 as bs\n",
    "import urllib.request\n",
    "source = urllib.request.urlopen('https://pythonprogramming.net/parsememcparseface/').read()"
   ]
  },
  {
   "cell_type": "code",
   "execution_count": 49,
   "id": "36a64040",
   "metadata": {},
   "outputs": [],
   "source": [
    "url = 'https://terraria.fandom.com/wiki/Category:Item_images'"
   ]
  },
  {
   "cell_type": "code",
   "execution_count": 60,
   "id": "e32f1d6a",
   "metadata": {},
   "outputs": [],
   "source": [
    "source2 = urllib.request.urlopen('https://terraria.fandom.com/wiki/Items').read()"
   ]
  },
  {
   "cell_type": "code",
   "execution_count": 53,
   "id": "acfba588",
   "metadata": {},
   "outputs": [
    {
     "data": {
      "text/plain": [
       "<Response [200]>"
      ]
     },
     "execution_count": 53,
     "metadata": {},
     "output_type": "execute_result"
    }
   ],
   "source": [
    "requests.get(url)"
   ]
  },
  {
   "cell_type": "code",
   "execution_count": 61,
   "id": "5b575ef9",
   "metadata": {},
   "outputs": [],
   "source": [
    "soup = bs.BeautifulSoup(source2,'lxml')"
   ]
  },
  {
   "cell_type": "code",
   "execution_count": 55,
   "id": "ec0b439c",
   "metadata": {},
   "outputs": [
    {
     "name": "stdout",
     "output_type": "stream",
     "text": [
      "<title>Category:Item images - Terraria Wiki</title>\n",
      "title\n",
      "Category:Item images - Terraria Wiki\n",
      "head\n",
      "<p>READ MORE</p>\n"
     ]
    }
   ],
   "source": [
    "# title of the page\n",
    "print(soup.title)\n",
    "\n",
    "# get attributes:\n",
    "print(soup.title.name)\n",
    "\n",
    "# get values:\n",
    "print(soup.title.string)\n",
    "\n",
    "# beginning navigation:\n",
    "print(soup.title.parent.name)\n",
    "\n",
    "# getting specific values:\n",
    "print(soup.p)\n"
   ]
  },
  {
   "cell_type": "code",
   "execution_count": 62,
   "id": "a5372ba1",
   "metadata": {},
   "outputs": [
    {
     "name": "stderr",
     "output_type": "stream",
     "text": [
      "IOPub data rate exceeded.\n",
      "The notebook server will temporarily stop sending output\n",
      "to the client in order to avoid crashing it.\n",
      "To change this limit, set the config variable\n",
      "`--NotebookApp.iopub_data_rate_limit`.\n",
      "\n",
      "Current values:\n",
      "NotebookApp.iopub_data_rate_limit=1000000.0 (bytes/sec)\n",
      "NotebookApp.rate_limit_window=3.0 (secs)\n",
      "\n"
     ]
    }
   ],
   "source": [
    "print(soup.find_all())"
   ]
  },
  {
   "cell_type": "code",
   "execution_count": 63,
   "id": "ac9162c6",
   "metadata": {},
   "outputs": [
    {
     "name": "stdout",
     "output_type": "stream",
     "text": [
      "READ MORE\n",
      "READ MORE\n",
      "None\n",
      "Items are entities that are among the most basic components of Terraria. There are 5000+ items within the game; specifically 5455 items. The player can interact with most items by using, consuming, or placing them. Items are always in one of two forms: \"dropped\", i.e. being part of the world, or in an inventory pertaining to a player, NPC vendor, or storage item. Dropped items can usually be picked up by the player to move them into their inventory, and they can usually be dropped out of the inventory again.\n",
      "\n",
      "None\n",
      "Most items can be grouped based on certain shared characteristics, e.g. armor items, blocks, or weapons. See Category:Items for the complete categorization.\n",
      "\n",
      "None\n",
      "Items can be obtained in numerous ways in Terraria. They can be\n",
      "\n",
      "None\n",
      "When an item is in its \"dropped\" form, any player making contact with the item will pick it up, automatically placing it in their inventory (if there is sufficient space). In addition, all players draw (\"pull\") all items within a certain range towards them in order to make contact with them. This range is referred to as pickup range. It consists of a rectangular area of, by default, 5.25×5.25 tiles, centered on the player. Certain effects increase the pickup range for certain items:[1]\n",
      "\n",
      "None\n",
      "Life Booster\n",
      "None\n",
      "Damage Booster\n",
      "None\n",
      "Mana Booster\n",
      "None\n",
      "Gold Ring\n",
      "None\n",
      "Coin Ring\n",
      "None\n",
      "Greedy Ring\n",
      "None\n",
      "Copper Coin\n",
      "None\n",
      "Silver Coin\n",
      "None\n",
      "Gold Coin\n",
      "None\n",
      "Platinum Coin\n",
      "None\n",
      "Celestial Magnet\n",
      "None\n",
      "Celestial Emblem\n",
      "None\n",
      "Celestial Cuffs\n",
      "None\n",
      "Magnet Flower\n",
      "None\n",
      "Star\n",
      "None\n",
      "Soul Cake\n",
      "None\n",
      "Sugar Plum\n",
      "None\n",
      "Heart\n",
      "None\n",
      "Candy Apple\n",
      "None\n",
      "Candy Cane\n",
      "None\n",
      "Treasure Magnet\n",
      "None\n",
      "Effects/equipped items in the same row do not stack.\n",
      "\n",
      "\"Pulled\" items have an acceleration and maximum speed, hence it is possible that an item is not pulled in completely, e.g. if the player is moving very fast and causes it to be out of pickup range before they could make contact with it.\n",
      "\n",
      "\"Pulled\" items have an acceleration and maximum speed, hence it is possible that an item is not pulled in completely, e.g. if the player is moving very fast and causes it to be out of pickup range before they could make contact with it.\n",
      "\n",
      "None\n",
      "In an inventory, items can be stacked in a single slot to a certain limit.\n",
      "\n",
      "None\n",
      " Most items can stack up to 9999, with a few exceptions (such as equipment and quest fish).\n",
      "\n",
      "None\n",
      " The limits are different for different types of items.\n",
      "\n",
      "These tables provide a general overview and there are exceptions. See an item's individual page for its maximum stack size.\n",
      "\n",
      "These tables provide a general overview and there are exceptions. See an item's individual page for its maximum stack size.\n",
      "\n",
      "Items that are in the \"dropped\" state will disappear (\"despawn\") upon exiting the world. At that point, it is impossible to reacquire them. If there are more than 400 \"dropped\" items on the world, items will also start despawning. In this instance, the items that have remained dropped for the longest amount of time may vanish as new items are added to the screen.\n",
      "\n",
      "Items that are in the \"dropped\" state will disappear (\"despawn\") upon exiting the world. At that point, it is impossible to reacquire them. If there are more than 400 \"dropped\" items on the world, items will also start despawning. In this instance, the items that have remained dropped for the longest amount of time may vanish as new items are added to the screen.\n",
      "\n",
      "None\n",
      "While only some items can be purchased from NPC vendors, all items can be sold (very common items such as Dirt and Wood have no value). The base buy and sell values are listed on each item page.\n",
      "\n",
      "None\n",
      "All NPC vendors offer the same base buy and sell value, however prices can be decreased by equipping a Discount Card, which is a rare drop from Pirate Invasions.  Buy and sell values can also be higher or lower based on the NPC's happiness level.\n",
      "\n",
      "None\n",
      "Hovering over an item in the NPC's shop inventory will display the buy value. Hovering over an item in the player's inventory while the NPC's inventory screen is open will display its sell value. Items are always sold to vendors at 1/5 of their purchase price. Not all items have a sell value. Sales to ( and purchases from) NPCs can be cancelled while the NPC's inventory screen is still open: Sold items can be taken back in exchange for the amount they were sold for ( and purchased items can be sold back in exchange for the amount they were purchased for).\n",
      "\n",
      "_______________________\n",
      "READ MORE\n",
      "None\n",
      "None\n",
      "None\n",
      "None\n",
      "None\n",
      "None\n",
      "None\n",
      "None\n",
      "None\n",
      "None\n",
      "None\n",
      "None\n",
      "None\n",
      "None\n",
      "None\n",
      "None\n",
      "None\n",
      "None\n",
      "None\n",
      "None\n",
      "None\n",
      "None\n",
      "None\n",
      "None\n",
      "None\n",
      "None\n",
      "\"Pulled\" items have an acceleration and maximum speed, hence it is possible that an item is not pulled in completely, e.g. if the player is moving very fast and causes it to be out of pickup range before they could make contact with it.\n",
      "\n",
      "None\n",
      "None\n",
      "None\n",
      "These tables provide a general overview and there are exceptions. See an item's individual page for its maximum stack size.\n",
      "\n",
      "Items that are in the \"dropped\" state will disappear (\"despawn\") upon exiting the world. At that point, it is impossible to reacquire them. If there are more than 400 \"dropped\" items on the world, items will also start despawning. In this instance, the items that have remained dropped for the longest amount of time may vanish as new items are added to the screen.\n",
      "\n",
      "None\n",
      "None\n",
      "None\n",
      "_______________________\n",
      "READ MORE\n",
      "Items are entities that are among the most basic components of Terraria. There are 5000+ items within the game; specifically 5455 items. The player can interact with most items by using, consuming, or placing them. Items are always in one of two forms: \"dropped\", i.e. being part of the world, or in an inventory pertaining to a player, NPC vendor, or storage item. Dropped items can usually be picked up by the player to move them into their inventory, and they can usually be dropped out of the inventory again.\n",
      "\n",
      "Most items can be grouped based on certain shared characteristics, e.g. armor items, blocks, or weapons. See Category:Items for the complete categorization.\n",
      "\n",
      "Items can be obtained in numerous ways in Terraria. They can be\n",
      "\n",
      "When an item is in its \"dropped\" form, any player making contact with the item will pick it up, automatically placing it in their inventory (if there is sufficient space). In addition, all players draw (\"pull\") all items within a certain range towards them in order to make contact with them. This range is referred to as pickup range. It consists of a rectangular area of, by default, 5.25×5.25 tiles, centered on the player. Certain effects increase the pickup range for certain items:[1]\n",
      "\n",
      "Life Booster\n",
      "Damage Booster\n",
      "Mana Booster\n",
      "Gold Ring\n",
      "Coin Ring\n",
      "Greedy Ring\n",
      "Copper Coin\n",
      "Silver Coin\n",
      "Gold Coin\n",
      "Platinum Coin\n",
      "Celestial Magnet\n",
      "Celestial Emblem\n",
      "Celestial Cuffs\n",
      "Magnet Flower\n",
      "Star\n",
      "Soul Cake\n",
      "Sugar Plum\n",
      "Heart\n",
      "Candy Apple\n",
      "Candy Cane\n",
      "Treasure Magnet\n",
      "Effects/equipped items in the same row do not stack.\n",
      "\n",
      "\"Pulled\" items have an acceleration and maximum speed, hence it is possible that an item is not pulled in completely, e.g. if the player is moving very fast and causes it to be out of pickup range before they could make contact with it.\n",
      "\n",
      "In an inventory, items can be stacked in a single slot to a certain limit.\n",
      "\n",
      " Most items can stack up to 9999, with a few exceptions (such as equipment and quest fish).\n",
      "\n",
      " The limits are different for different types of items.\n",
      "\n",
      "These tables provide a general overview and there are exceptions. See an item's individual page for its maximum stack size.\n",
      "\n",
      "Items that are in the \"dropped\" state will disappear (\"despawn\") upon exiting the world. At that point, it is impossible to reacquire them. If there are more than 400 \"dropped\" items on the world, items will also start despawning. In this instance, the items that have remained dropped for the longest amount of time may vanish as new items are added to the screen.\n",
      "\n",
      "While only some items can be purchased from NPC vendors, all items can be sold (very common items such as Dirt and Wood have no value). The base buy and sell values are listed on each item page.\n",
      "\n",
      "All NPC vendors offer the same base buy and sell value, however prices can be decreased by equipping a Discount Card, which is a rare drop from Pirate Invasions.  Buy and sell values can also be higher or lower based on the NPC's happiness level.\n",
      "\n",
      "Hovering over an item in the NPC's shop inventory will display the buy value. Hovering over an item in the player's inventory while the NPC's inventory screen is open will display its sell value. Items are always sold to vendors at 1/5 of their purchase price. Not all items have a sell value. Sales to ( and purchases from) NPCs can be cancelled while the NPC's inventory screen is still open: Sold items can be taken back in exchange for the amount they were sold for ( and purchased items can be sold back in exchange for the amount they were purchased for).\n",
      "\n",
      "_______________________\n"
     ]
    }
   ],
   "source": [
    "\n",
    "for paragraph in soup.find_all('p'):\n",
    "    print(paragraph.string)\n",
    "    print(str(paragraph.text))\n",
    "print(\"_______________________\")\n",
    "\n",
    "for paragraph in soup.find_all('p'):\n",
    "    print(paragraph.string)\n",
    "print(\"_______________________\")\n",
    "for paragraph in soup.find_all('p'):\n",
    "    print(str(paragraph.text))\n",
    "print(\"_______________________\")\n"
   ]
  },
  {
   "cell_type": "code",
   "execution_count": 71,
   "id": "98bcd684",
   "metadata": {},
   "outputs": [],
   "source": [
    "for url in soup.find_all('a'):\n",
    "    print(url.get('href'))\n"
   ]
  },
  {
   "cell_type": "code",
   "execution_count": 66,
   "id": "f849152e",
   "metadata": {},
   "outputs": [],
   "source": [
    "table = soup.find('table')"
   ]
  },
  {
   "cell_type": "code",
   "execution_count": 68,
   "id": "a742494f",
   "metadata": {},
   "outputs": [],
   "source": [
    "table_rows = table.find_all('tr')"
   ]
  },
  {
   "cell_type": "code",
   "execution_count": 69,
   "id": "de597725",
   "metadata": {},
   "outputs": [
    {
     "name": "stdout",
     "output_type": "stream",
     "text": [
      "[]\n",
      "['n/a\\n', 'All items and pickups\\n', '0 total: 2.625 tiles\\n']\n",
      "['n/a\\n', 'Etherian Mana\\n', '+3.125 tiles total: 5.75 tiles\\n']\n",
      "['n/a\\n', 'Life BoosterDamage BoosterMana Booster\\n', '+6.25 tiles total: 8.875 tiles\\n']\n",
      "['Gold RingCoin RingGreedy Ring\\n', 'Copper CoinSilver CoinGold CoinPlatinum Coin\\n', '+21.875 tiles total: 24.5 tiles\\n']\n",
      "['Celestial MagnetCelestial EmblemCelestial CuffsMagnet Flower\\n', 'StarSoul CakeSugar Plum\\n', '+18.75 tiles total: 21.375 tiles\\n']\n",
      "['Heartreach\\n', 'HeartCandy AppleCandy Cane\\n', '+15.625 tiles total: 18.25 tiles\\n']\n",
      "['Treasure Magnet\\n', 'All items and pickups\\n', '+9.375 tiles total: 12 tiles\\n']\n"
     ]
    }
   ],
   "source": [
    "for tr in table_rows:\n",
    "    td = tr.find_all('td')\n",
    "    row = [i.text for i in td]\n",
    "    print(row)\n"
   ]
  },
  {
   "cell_type": "code",
   "execution_count": null,
   "id": "d6e550ba",
   "metadata": {},
   "outputs": [],
   "source": []
  }
 ],
 "metadata": {
  "kernelspec": {
   "display_name": "Python 3 (ipykernel)",
   "language": "python",
   "name": "python3"
  },
  "language_info": {
   "codemirror_mode": {
    "name": "ipython",
    "version": 3
   },
   "file_extension": ".py",
   "mimetype": "text/x-python",
   "name": "python",
   "nbconvert_exporter": "python",
   "pygments_lexer": "ipython3",
   "version": "3.10.4"
  }
 },
 "nbformat": 4,
 "nbformat_minor": 5
}
