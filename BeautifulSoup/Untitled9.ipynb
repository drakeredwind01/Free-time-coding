{
 "cells": [
  {
   "cell_type": "code",
   "execution_count": 4,
   "id": "58d4e282-108d-4e9d-8773-224889432006",
   "metadata": {},
   "outputs": [],
   "source": [
    "from bs4 import BeautifulSoup\n",
    "import requests\n",
    "from tqdm import tqdm\n",
    "from io import open\n",
    "import os"
   ]
  },
  {
   "cell_type": "code",
   "execution_count": 5,
   "id": "eb2343ff-0dfa-4b41-bf58-51eda6aeb28f",
   "metadata": {},
   "outputs": [],
   "source": [
    "source = requests.get('https://outforia.com/poisonous-mushrooms/')\n",
    "souped = BeautifulSoup(source.content, 'html.parser')"
   ]
  },
  {
   "cell_type": "code",
   "execution_count": 6,
   "id": "3185313d-b031-447b-9c70-f4a7d4a1c337",
   "metadata": {},
   "outputs": [
    {
     "name": "stdout",
     "output_type": "stream",
     "text": [
      "<h2 class=\"wp-block-heading ftwp-heading\" id=\"otoc-1-death-cap-amanita-phalloides\">1. Death Cap (<em>Amanita phalloides</em>)</h2>\n",
      "<h2 class=\"wp-block-heading ftwp-heading\" id=\"otoc-2-funeral-bell-galerina-marginata\">2. Funeral Bell (<em>Galerina marginata</em>)</h2>\n",
      "<h2 class=\"wp-block-heading ftwp-heading\" id=\"otoc-3-panther-cap-amanita-pantherina\">3. Panther Cap (<em>Amanita pantherina)</em></h2>\n",
      "<h2 class=\"wp-block-heading ftwp-heading\" id=\"otoc-4-lilac-elf-cup-sarcosphaera-coronaria\">4. Lilac Elf Cup (<em>Sarcosphaera coronaria)</em></h2>\n",
      "<h2 class=\"wp-block-heading ftwp-heading\" id=\"otoc-5-deadly-webcap-cortinarius-rubellus\">5. Deadly Webcap (<em>Cortinarius rubellus)</em></h2>\n",
      "<h2 class=\"wp-block-heading ftwp-heading\" id=\"otoc-6-destroying-angel-amanita-virosa\">6. Destroying Angel (<em>Amanita virosa</em>)</h2>\n",
      "<h2 class=\"wp-block-heading ftwp-heading\" id=\"otoc-7-deadly-dapperling-lepiota-brunneoincarnata\">7. Deadly Dapperling (<em>Lepiota brunneoincarnata</em>)</h2>\n",
      "<h2 class=\"wp-block-heading ftwp-heading\" id=\"otoc-8-the-brown-roll-rim-paxillus-involutus\">8. The Brown Roll-Rim (<em>Paxillus involutus</em>)</h2>\n",
      "<h2 class=\"wp-block-heading ftwp-heading\" id=\"otoc-9-devils-bolete-rubroboletus-satanas\">9. Devil’s Bolete (<em>Rubroboletus satanas</em>)</h2>\n",
      "<h2 class=\"wp-block-heading ftwp-heading\" id=\"otoc-10-the-sickener-russula-emetica\">10. The Sickener (<em>Russula emetica</em>)</h2>\n",
      "<h2 class=\"wp-block-heading ftwp-heading\" id=\"otoc-11-fools-webcap-cortinarius-orellanus\">11. Fool’s Webcap (<em>Cortinarius orellanus</em>)</h2>\n",
      "<h2 class=\"wp-block-heading ftwp-heading\" id=\"otoc-12-ivory-mushroom-clitocybe-dealbata\">12. Ivory Mushroom (<em>Clitocybe dealbata</em>)</h2>\n",
      "<h2 class=\"wp-block-heading ftwp-heading\" id=\"otoc-13-fly-agaric-amanita-muscaria\">13. Fly Agaric (<em>Amanita muscaria)</em></h2>\n",
      "<h2 class=\"wp-block-heading ftwp-heading\" id=\"otoc-14-poison-fire-coral-podostroma-cornu-damae\">14. Poison Fire Coral (<em>Podostroma cornu-damae</em>)</h2>\n",
      "<h2 class=\"wp-block-heading ftwp-heading\" id=\"otoc-15-angels-wings-pleurocybella-porrigens\">15. Angel’s Wings (<em>Pleurocybella porrigens</em>)</h2>\n",
      "<h2 class=\"wp-block-heading ftwp-heading\" id=\"otoc-16-earthball-scleroderma\">16. Earthball (<em>Scleroderma</em>)</h2>\n",
      "<h2 class=\"wp-block-heading ftwp-heading\" id=\"otoc-17-jack-o-lantern-omphalotus\">17. Jack-o’-Lantern (<em>Omphalotus</em>)</h2>\n",
      "<h2 class=\"wp-block-heading ftwp-heading\" id=\"otoc-18-liberty-caps-psilocybe-semilanceata\">18. Liberty Caps (<em>Psilocybe semilanceata</em>)</h2>\n",
      "<h2 class=\"wp-block-heading ftwp-heading\" id=\"otoc-19-sulfur-tuft-hypholoma-fasciculare\">19. Sulfur Tuft (<em>Hypholoma fasciculare</em>)</h2>\n",
      "<h2 class=\"wp-block-heading ftwp-heading\" id=\"otoc-20-fools-mushroom-or-european-springtime-destroying-angel-amanita-verna\">20. Fool’s Mushroom or European Springtime Destroying Angel (<em>Amanita verna</em>)</h2>\n",
      "<h2 class=\"wp-block-heading ftwp-heading\" id=\"otoc-21-brain-mushroom-or-false-morel-gyromitra-esculenta\">21. Brain Mushroom or False Morel (<em>Gyromitra esculenta</em>)</h2>\n",
      "<h2 class=\"wp-block-heading ftwp-heading\" id=\"otoc-22-poison-pie-hebeloma-crustuliniforme\">22. Poison Pie (<em>Hebeloma crustuliniforme</em>)</h2>\n",
      "<h2 class=\"wp-block-heading ftwp-heading\" id=\"otoc-poisonous-mushrooms-faqs\">Poisonous Mushrooms FAQs</h2>\n",
      "<h2 class=\"wp-block-heading ftwp-heading\" id=\"otoc-you-may-also-like\" style=\"font-size:25px\">You May Also Like:</h2>\n"
     ]
    }
   ],
   "source": [
    "# Get all of the mushroom names\n",
    "names = souped.select('h2.wp-block-heading.ftwp-heading')\n",
    "for name in names:\n",
    "    filename = name\n",
    "    print(filename)"
   ]
  },
  {
   "cell_type": "code",
   "execution_count": 7,
   "id": "56cc9618-37f6-4b68-ba9d-fa5ebffd1e8a",
   "metadata": {},
   "outputs": [
    {
     "name": "stdout",
     "output_type": "stream",
     "text": [
      "<img alt=\"Death Cap (Amanita phalloides) on a soil been dug\" class=\"wp-image-71437 sp-no-webp\" decoding=\"async\" height=\"664\" loading=\"lazy\" sizes=\"(max-width: 1000px) 100vw, 1000px\" src=\"https://outforia.com/wp-content/uploads/2023/04/poisonous-mushrooms-2-03152023.jpg\" srcset=\"https://outforia.com/wp-content/uploads/2023/04/poisonous-mushrooms-2-03152023.jpg 1000w, https://outforia.com/wp-content/uploads/2023/04/poisonous-mushrooms-2-03152023-300x199.jpg 300w, https://outforia.com/wp-content/uploads/2023/04/poisonous-mushrooms-2-03152023-768x510.jpg 768w, https://outforia.com/wp-content/uploads/2023/04/poisonous-mushrooms-2-03152023-495x329.jpg 495w\" width=\"1000\"/>\n"
     ]
    }
   ],
   "source": [
    "# Get all of the mushroom images\n",
    "imgs = souped.find_all('img.wp-image-71437.sp-no-webp')\n",
    "\n",
    "images = souped.select('img.wp-image-71437.sp-no-webp')\n",
    "for image in images:\n",
    "    print(image)"
   ]
  },
  {
   "cell_type": "code",
   "execution_count": null,
   "id": "c59fc5b2-5006-4adc-948e-d2217152393c",
   "metadata": {},
   "outputs": [],
   "source": []
  }
 ],
 "metadata": {
  "kernelspec": {
   "display_name": "Python 3 (ipykernel)",
   "language": "python",
   "name": "python3"
  },
  "language_info": {
   "codemirror_mode": {
    "name": "ipython",
    "version": 3
   },
   "file_extension": ".py",
   "mimetype": "text/x-python",
   "name": "python",
   "nbconvert_exporter": "python",
   "pygments_lexer": "ipython3",
   "version": "3.12.0"
  }
 },
 "nbformat": 4,
 "nbformat_minor": 5
}
